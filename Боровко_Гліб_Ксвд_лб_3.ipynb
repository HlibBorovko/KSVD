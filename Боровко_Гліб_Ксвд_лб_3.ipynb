{
  "nbformat": 4,
  "nbformat_minor": 0,
  "metadata": {
    "colab": {
      "provenance": [],
      "authorship_tag": "ABX9TyOOcEFkOMATlhA1zYIXA7Jf",
      "include_colab_link": true
    },
    "kernelspec": {
      "name": "python3",
      "display_name": "Python 3"
    },
    "language_info": {
      "name": "python"
    }
  },
  "cells": [
    {
      "cell_type": "markdown",
      "metadata": {
        "id": "view-in-github",
        "colab_type": "text"
      },
      "source": [
        "<a href=\"https://colab.research.google.com/github/HlibBorovko/KSVD/blob/main/%D0%91%D0%BE%D1%80%D0%BE%D0%B2%D0%BA%D0%BE_%D0%93%D0%BB%D1%96%D0%B1_%D0%9A%D1%81%D0%B2%D0%B4_%D0%BB%D0%B1_3.ipynb\" target=\"_parent\"><img src=\"https://colab.research.google.com/assets/colab-badge.svg\" alt=\"Open In Colab\"/></a>"
      ]
    },
    {
      "cell_type": "code",
      "execution_count": 1,
      "metadata": {
        "colab": {
          "base_uri": "https://localhost:8080/"
        },
        "id": "PrJBJ-bIigwn",
        "outputId": "808c5192-312c-45bf-facd-1802140bb8ea"
      },
      "outputs": [
        {
          "output_type": "stream",
          "name": "stdout",
          "text": [
            "\u001b[2K   \u001b[90m━━━━━━━━━━━━━━━━━━━━━━━━━━━━━━━━━━━━━━━━\u001b[0m \u001b[32m363.4/363.4 MB\u001b[0m \u001b[31m4.3 MB/s\u001b[0m eta \u001b[36m0:00:00\u001b[0m\n",
            "\u001b[2K   \u001b[90m━━━━━━━━━━━━━━━━━━━━━━━━━━━━━━━━━━━━━━━━\u001b[0m \u001b[32m13.8/13.8 MB\u001b[0m \u001b[31m25.5 MB/s\u001b[0m eta \u001b[36m0:00:00\u001b[0m\n",
            "\u001b[2K   \u001b[90m━━━━━━━━━━━━━━━━━━━━━━━━━━━━━━━━━━━━━━━━\u001b[0m \u001b[32m24.6/24.6 MB\u001b[0m \u001b[31m18.8 MB/s\u001b[0m eta \u001b[36m0:00:00\u001b[0m\n",
            "\u001b[2K   \u001b[90m━━━━━━━━━━━━━━━━━━━━━━━━━━━━━━━━━━━━━━━━\u001b[0m \u001b[32m883.7/883.7 kB\u001b[0m \u001b[31m10.1 MB/s\u001b[0m eta \u001b[36m0:00:00\u001b[0m\n",
            "\u001b[2K   \u001b[90m━━━━━━━━━━━━━━━━━━━━━━━━━━━━━━━━━━━━━━━━\u001b[0m \u001b[32m664.8/664.8 MB\u001b[0m \u001b[31m2.8 MB/s\u001b[0m eta \u001b[36m0:00:00\u001b[0m\n",
            "\u001b[2K   \u001b[90m━━━━━━━━━━━━━━━━━━━━━━━━━━━━━━━━━━━━━━━━\u001b[0m \u001b[32m211.5/211.5 MB\u001b[0m \u001b[31m5.0 MB/s\u001b[0m eta \u001b[36m0:00:00\u001b[0m\n",
            "\u001b[2K   \u001b[90m━━━━━━━━━━━━━━━━━━━━━━━━━━━━━━━━━━━━━━━━\u001b[0m \u001b[32m56.3/56.3 MB\u001b[0m \u001b[31m9.3 MB/s\u001b[0m eta \u001b[36m0:00:00\u001b[0m\n",
            "\u001b[2K   \u001b[90m━━━━━━━━━━━━━━━━━━━━━━━━━━━━━━━━━━━━━━━━\u001b[0m \u001b[32m127.9/127.9 MB\u001b[0m \u001b[31m7.1 MB/s\u001b[0m eta \u001b[36m0:00:00\u001b[0m\n",
            "\u001b[2K   \u001b[90m━━━━━━━━━━━━━━━━━━━━━━━━━━━━━━━━━━━━━━━━\u001b[0m \u001b[32m207.5/207.5 MB\u001b[0m \u001b[31m5.9 MB/s\u001b[0m eta \u001b[36m0:00:00\u001b[0m\n",
            "\u001b[2K   \u001b[90m━━━━━━━━━━━━━━━━━━━━━━━━━━━━━━━━━━━━━━━━\u001b[0m \u001b[32m21.1/21.1 MB\u001b[0m \u001b[31m78.9 MB/s\u001b[0m eta \u001b[36m0:00:00\u001b[0m\n",
            "\u001b[?25h"
          ]
        }
      ],
      "source": [
        "!pip install torch torchvision scikit-learn pandas matplotlib seaborn --quiet"
      ]
    },
    {
      "cell_type": "code",
      "source": [
        "import pandas as pd\n",
        "import numpy as np\n",
        "import torch\n",
        "import torch.nn as nn\n",
        "from torch.utils.data import DataLoader, TensorDataset, random_split\n",
        "from sklearn.model_selection import train_test_split\n",
        "from sklearn.preprocessing import StandardScaler\n",
        "from sklearn.linear_model import LogisticRegression\n",
        "from sklearn.metrics import accuracy_score, confusion_matrix, classification_report\n",
        "import matplotlib.pyplot as plt\n",
        "import seaborn as sns"
      ],
      "metadata": {
        "id": "yQnnZLBRimPo"
      },
      "execution_count": 2,
      "outputs": []
    },
    {
      "cell_type": "code",
      "source": [
        "# Завантаження даних\n",
        "from google.colab import files\n",
        "uploaded = files.upload()\n"
      ],
      "metadata": {
        "colab": {
          "base_uri": "https://localhost:8080/",
          "height": 73
        },
        "id": "XiGBRrs6imSq",
        "outputId": "bef37bc8-764a-4cc6-ede8-bb7482b1daea"
      },
      "execution_count": 3,
      "outputs": [
        {
          "output_type": "display_data",
          "data": {
            "text/plain": [
              "<IPython.core.display.HTML object>"
            ],
            "text/html": [
              "\n",
              "     <input type=\"file\" id=\"files-4cffd58a-e64a-4f1f-844c-bf76a101ea9e\" name=\"files[]\" multiple disabled\n",
              "        style=\"border:none\" />\n",
              "     <output id=\"result-4cffd58a-e64a-4f1f-844c-bf76a101ea9e\">\n",
              "      Upload widget is only available when the cell has been executed in the\n",
              "      current browser session. Please rerun this cell to enable.\n",
              "      </output>\n",
              "      <script>// Copyright 2017 Google LLC\n",
              "//\n",
              "// Licensed under the Apache License, Version 2.0 (the \"License\");\n",
              "// you may not use this file except in compliance with the License.\n",
              "// You may obtain a copy of the License at\n",
              "//\n",
              "//      http://www.apache.org/licenses/LICENSE-2.0\n",
              "//\n",
              "// Unless required by applicable law or agreed to in writing, software\n",
              "// distributed under the License is distributed on an \"AS IS\" BASIS,\n",
              "// WITHOUT WARRANTIES OR CONDITIONS OF ANY KIND, either express or implied.\n",
              "// See the License for the specific language governing permissions and\n",
              "// limitations under the License.\n",
              "\n",
              "/**\n",
              " * @fileoverview Helpers for google.colab Python module.\n",
              " */\n",
              "(function(scope) {\n",
              "function span(text, styleAttributes = {}) {\n",
              "  const element = document.createElement('span');\n",
              "  element.textContent = text;\n",
              "  for (const key of Object.keys(styleAttributes)) {\n",
              "    element.style[key] = styleAttributes[key];\n",
              "  }\n",
              "  return element;\n",
              "}\n",
              "\n",
              "// Max number of bytes which will be uploaded at a time.\n",
              "const MAX_PAYLOAD_SIZE = 100 * 1024;\n",
              "\n",
              "function _uploadFiles(inputId, outputId) {\n",
              "  const steps = uploadFilesStep(inputId, outputId);\n",
              "  const outputElement = document.getElementById(outputId);\n",
              "  // Cache steps on the outputElement to make it available for the next call\n",
              "  // to uploadFilesContinue from Python.\n",
              "  outputElement.steps = steps;\n",
              "\n",
              "  return _uploadFilesContinue(outputId);\n",
              "}\n",
              "\n",
              "// This is roughly an async generator (not supported in the browser yet),\n",
              "// where there are multiple asynchronous steps and the Python side is going\n",
              "// to poll for completion of each step.\n",
              "// This uses a Promise to block the python side on completion of each step,\n",
              "// then passes the result of the previous step as the input to the next step.\n",
              "function _uploadFilesContinue(outputId) {\n",
              "  const outputElement = document.getElementById(outputId);\n",
              "  const steps = outputElement.steps;\n",
              "\n",
              "  const next = steps.next(outputElement.lastPromiseValue);\n",
              "  return Promise.resolve(next.value.promise).then((value) => {\n",
              "    // Cache the last promise value to make it available to the next\n",
              "    // step of the generator.\n",
              "    outputElement.lastPromiseValue = value;\n",
              "    return next.value.response;\n",
              "  });\n",
              "}\n",
              "\n",
              "/**\n",
              " * Generator function which is called between each async step of the upload\n",
              " * process.\n",
              " * @param {string} inputId Element ID of the input file picker element.\n",
              " * @param {string} outputId Element ID of the output display.\n",
              " * @return {!Iterable<!Object>} Iterable of next steps.\n",
              " */\n",
              "function* uploadFilesStep(inputId, outputId) {\n",
              "  const inputElement = document.getElementById(inputId);\n",
              "  inputElement.disabled = false;\n",
              "\n",
              "  const outputElement = document.getElementById(outputId);\n",
              "  outputElement.innerHTML = '';\n",
              "\n",
              "  const pickedPromise = new Promise((resolve) => {\n",
              "    inputElement.addEventListener('change', (e) => {\n",
              "      resolve(e.target.files);\n",
              "    });\n",
              "  });\n",
              "\n",
              "  const cancel = document.createElement('button');\n",
              "  inputElement.parentElement.appendChild(cancel);\n",
              "  cancel.textContent = 'Cancel upload';\n",
              "  const cancelPromise = new Promise((resolve) => {\n",
              "    cancel.onclick = () => {\n",
              "      resolve(null);\n",
              "    };\n",
              "  });\n",
              "\n",
              "  // Wait for the user to pick the files.\n",
              "  const files = yield {\n",
              "    promise: Promise.race([pickedPromise, cancelPromise]),\n",
              "    response: {\n",
              "      action: 'starting',\n",
              "    }\n",
              "  };\n",
              "\n",
              "  cancel.remove();\n",
              "\n",
              "  // Disable the input element since further picks are not allowed.\n",
              "  inputElement.disabled = true;\n",
              "\n",
              "  if (!files) {\n",
              "    return {\n",
              "      response: {\n",
              "        action: 'complete',\n",
              "      }\n",
              "    };\n",
              "  }\n",
              "\n",
              "  for (const file of files) {\n",
              "    const li = document.createElement('li');\n",
              "    li.append(span(file.name, {fontWeight: 'bold'}));\n",
              "    li.append(span(\n",
              "        `(${file.type || 'n/a'}) - ${file.size} bytes, ` +\n",
              "        `last modified: ${\n",
              "            file.lastModifiedDate ? file.lastModifiedDate.toLocaleDateString() :\n",
              "                                    'n/a'} - `));\n",
              "    const percent = span('0% done');\n",
              "    li.appendChild(percent);\n",
              "\n",
              "    outputElement.appendChild(li);\n",
              "\n",
              "    const fileDataPromise = new Promise((resolve) => {\n",
              "      const reader = new FileReader();\n",
              "      reader.onload = (e) => {\n",
              "        resolve(e.target.result);\n",
              "      };\n",
              "      reader.readAsArrayBuffer(file);\n",
              "    });\n",
              "    // Wait for the data to be ready.\n",
              "    let fileData = yield {\n",
              "      promise: fileDataPromise,\n",
              "      response: {\n",
              "        action: 'continue',\n",
              "      }\n",
              "    };\n",
              "\n",
              "    // Use a chunked sending to avoid message size limits. See b/62115660.\n",
              "    let position = 0;\n",
              "    do {\n",
              "      const length = Math.min(fileData.byteLength - position, MAX_PAYLOAD_SIZE);\n",
              "      const chunk = new Uint8Array(fileData, position, length);\n",
              "      position += length;\n",
              "\n",
              "      const base64 = btoa(String.fromCharCode.apply(null, chunk));\n",
              "      yield {\n",
              "        response: {\n",
              "          action: 'append',\n",
              "          file: file.name,\n",
              "          data: base64,\n",
              "        },\n",
              "      };\n",
              "\n",
              "      let percentDone = fileData.byteLength === 0 ?\n",
              "          100 :\n",
              "          Math.round((position / fileData.byteLength) * 100);\n",
              "      percent.textContent = `${percentDone}% done`;\n",
              "\n",
              "    } while (position < fileData.byteLength);\n",
              "  }\n",
              "\n",
              "  // All done.\n",
              "  yield {\n",
              "    response: {\n",
              "      action: 'complete',\n",
              "    }\n",
              "  };\n",
              "}\n",
              "\n",
              "scope.google = scope.google || {};\n",
              "scope.google.colab = scope.google.colab || {};\n",
              "scope.google.colab._files = {\n",
              "  _uploadFiles,\n",
              "  _uploadFilesContinue,\n",
              "};\n",
              "})(self);\n",
              "</script> "
            ]
          },
          "metadata": {}
        },
        {
          "output_type": "stream",
          "name": "stdout",
          "text": [
            "Saving data.csv to data.csv\n"
          ]
        }
      ]
    },
    {
      "cell_type": "code",
      "source": [
        "df = pd.read_csv(\"data.csv\")\n",
        "print(\"Перші рядки датафрейму:\")\n",
        "print(df.head())"
      ],
      "metadata": {
        "colab": {
          "base_uri": "https://localhost:8080/"
        },
        "id": "Yy_28KpMimVP",
        "outputId": "2f3dbc0a-8908-41ba-cee4-05a52070ce90"
      },
      "execution_count": 4,
      "outputs": [
        {
          "output_type": "stream",
          "name": "stdout",
          "text": [
            "Перші рядки датафрейму:\n",
            "   Phoenix Feather  Unicorn Horn  Dragon's Blood  Mermaid Tears  Fairy Dust  \\\n",
            "0              2.4          18.7            18.4           27.9         7.9   \n",
            "1              2.1           6.0            15.0           13.3        15.6   \n",
            "2             17.2          13.9            23.8            6.8        10.7   \n",
            "3              8.4           9.7             6.8           26.9         4.6   \n",
            "4             22.1          10.8            16.4           10.5        22.0   \n",
            "\n",
            "   Goblin Toes  Witch's Brew  Griffin Claw  Troll Hair  Kraken Ink  \\\n",
            "0          9.6          18.3          13.2         2.5        26.0   \n",
            "1         13.1          11.0           5.0         7.2        26.0   \n",
            "2         15.8          19.4           2.7        15.4        21.2   \n",
            "3         29.1          14.6          19.7        18.0        20.8   \n",
            "4         23.4           2.6          18.2        23.8        11.3   \n",
            "\n",
            "   Minotaur Horn  Basilisk Scale  Chimera Fang  Cured  \n",
            "0           10.5            26.2          12.5      0  \n",
            "1            1.5            13.3           6.2      0  \n",
            "2           11.1            16.6          11.4      1  \n",
            "3           13.6            13.9           8.1      1  \n",
            "4            5.5            16.8          16.2      0  \n"
          ]
        }
      ]
    },
    {
      "cell_type": "code",
      "source": [
        "# Аналіз і підготовка\n",
        "print(\"\\nІнформація про дані:\")\n",
        "print(df.info())\n",
        "\n",
        "print(\"\\nПеревірка на пропущені значення:\")\n",
        "print(df.isnull().sum())"
      ],
      "metadata": {
        "colab": {
          "base_uri": "https://localhost:8080/"
        },
        "id": "-Dw2aJhaimYF",
        "outputId": "718fcf9f-38b4-4563-db4b-d26e829f8b78"
      },
      "execution_count": 5,
      "outputs": [
        {
          "output_type": "stream",
          "name": "stdout",
          "text": [
            "\n",
            "Інформація про дані:\n",
            "<class 'pandas.core.frame.DataFrame'>\n",
            "RangeIndex: 2338 entries, 0 to 2337\n",
            "Data columns (total 14 columns):\n",
            " #   Column           Non-Null Count  Dtype  \n",
            "---  ------           --------------  -----  \n",
            " 0   Phoenix Feather  2338 non-null   float64\n",
            " 1   Unicorn Horn     2338 non-null   float64\n",
            " 2   Dragon's Blood   2338 non-null   float64\n",
            " 3   Mermaid Tears    2338 non-null   float64\n",
            " 4   Fairy Dust       2338 non-null   float64\n",
            " 5   Goblin Toes      2338 non-null   float64\n",
            " 6   Witch's Brew     2338 non-null   float64\n",
            " 7   Griffin Claw     2338 non-null   float64\n",
            " 8   Troll Hair       2338 non-null   float64\n",
            " 9   Kraken Ink       2338 non-null   float64\n",
            " 10  Minotaur Horn    2338 non-null   float64\n",
            " 11  Basilisk Scale   2338 non-null   float64\n",
            " 12  Chimera Fang     2338 non-null   float64\n",
            " 13  Cured            2338 non-null   int64  \n",
            "dtypes: float64(13), int64(1)\n",
            "memory usage: 255.8 KB\n",
            "None\n",
            "\n",
            "Перевірка на пропущені значення:\n",
            "Phoenix Feather    0\n",
            "Unicorn Horn       0\n",
            "Dragon's Blood     0\n",
            "Mermaid Tears      0\n",
            "Fairy Dust         0\n",
            "Goblin Toes        0\n",
            "Witch's Brew       0\n",
            "Griffin Claw       0\n",
            "Troll Hair         0\n",
            "Kraken Ink         0\n",
            "Minotaur Horn      0\n",
            "Basilisk Scale     0\n",
            "Chimera Fang       0\n",
            "Cured              0\n",
            "dtype: int64\n"
          ]
        }
      ]
    },
    {
      "cell_type": "code",
      "source": [
        "\n",
        "X = df.drop('Cured', axis=1).values\n",
        "y = df['Cured'].values"
      ],
      "metadata": {
        "id": "1sFcbHfHimav"
      },
      "execution_count": 6,
      "outputs": []
    },
    {
      "cell_type": "code",
      "source": [
        "# Масштабування\n",
        "scaler = StandardScaler()\n",
        "X_scaled = scaler.fit_transform(X)"
      ],
      "metadata": {
        "id": "OxLcx029imdQ"
      },
      "execution_count": 7,
      "outputs": []
    },
    {
      "cell_type": "code",
      "source": [
        "# Поділ на навчальну і тестову вибірки\n",
        "X_train, X_test, y_train, y_test = train_test_split(X_scaled, y, test_size=0.2, random_state=42)\n"
      ],
      "metadata": {
        "id": "ghtvUXWEimf6"
      },
      "execution_count": 8,
      "outputs": []
    },
    {
      "cell_type": "code",
      "source": [
        "# Перетворення у тензори\n",
        "X_train_tensor = torch.tensor(X_train, dtype=torch.float32)\n",
        "X_test_tensor = torch.tensor(X_test, dtype=torch.float32)\n",
        "y_train_tensor = torch.tensor(y_train, dtype=torch.float32).view(-1, 1)\n",
        "y_test_tensor = torch.tensor(y_test, dtype=torch.float32).view(-1, 1)\n",
        "\n",
        "train_dataset = TensorDataset(X_train_tensor, y_train_tensor)\n",
        "test_dataset = TensorDataset(X_test_tensor, y_test_tensor)\n",
        "\n",
        "train_loader = DataLoader(train_dataset, batch_size=32, shuffle=True)\n"
      ],
      "metadata": {
        "id": "fVGlOxjYimlD"
      },
      "execution_count": 9,
      "outputs": []
    },
    {
      "cell_type": "code",
      "source": [
        "# Побудова моделі\n",
        "class LogisticRegressionNN(nn.Module):\n",
        "    def __init__(self, input_dim):\n",
        "        super(LogisticRegressionNN, self).__init__()\n",
        "        self.linear = nn.Linear(input_dim, 1)\n",
        "\n",
        "    def forward(self, x):\n",
        "        return torch.sigmoid(self.linear(x))\n",
        "\n",
        "model = LogisticRegressionNN(X_train.shape[1])\n",
        "criterion = nn.BCELoss()\n",
        "optimizer = torch.optim.Adam(model.parameters(), lr=0.01)"
      ],
      "metadata": {
        "id": "vjY6fHLJimpo"
      },
      "execution_count": 10,
      "outputs": []
    },
    {
      "cell_type": "code",
      "source": [
        "# Навчання моделі\n",
        "epochs = 100\n",
        "for epoch in range(epochs):\n",
        "    for batch_X, batch_y in train_loader:\n",
        "        outputs = model(batch_X)\n",
        "        loss = criterion(outputs, batch_y)\n",
        "        optimizer.zero_grad()\n",
        "        loss.backward()\n",
        "        optimizer.step()\n",
        "    if (epoch+1) % 10 == 0:\n",
        "        print(f\"Epoch [{epoch+1}/{epochs}], Loss: {loss.item():.4f}\")"
      ],
      "metadata": {
        "colab": {
          "base_uri": "https://localhost:8080/"
        },
        "id": "XoUmonKCjnov",
        "outputId": "190bc8bf-caca-4846-a46e-0e4dd6909cb7"
      },
      "execution_count": 11,
      "outputs": [
        {
          "output_type": "stream",
          "name": "stdout",
          "text": [
            "Epoch [10/100], Loss: 0.5052\n",
            "Epoch [20/100], Loss: 0.1614\n",
            "Epoch [30/100], Loss: 0.2884\n",
            "Epoch [40/100], Loss: 0.2502\n",
            "Epoch [50/100], Loss: 0.4563\n",
            "Epoch [60/100], Loss: 0.3246\n",
            "Epoch [70/100], Loss: 0.6885\n",
            "Epoch [80/100], Loss: 0.4086\n",
            "Epoch [90/100], Loss: 0.2811\n",
            "Epoch [100/100], Loss: 0.2973\n"
          ]
        }
      ]
    },
    {
      "cell_type": "code",
      "source": [
        "# Тестування PyTorch-моделі\n",
        "with torch.no_grad():\n",
        "    y_pred_nn = model(X_test_tensor)\n",
        "    y_pred_nn_cls = (y_pred_nn >= 0.5).float()\n",
        "\n",
        "acc_nn = accuracy_score(y_test, y_pred_nn_cls)\n",
        "print(f\"\\nТочність PyTorch моделі: {acc_nn:.4f}\")\n",
        "print(\"Матриця плутанини:\")\n",
        "print(confusion_matrix(y_test, y_pred_nn_cls))"
      ],
      "metadata": {
        "colab": {
          "base_uri": "https://localhost:8080/"
        },
        "id": "ZNNnlKESjnr2",
        "outputId": "5fe70438-d99a-4e82-aeb8-60180216358e"
      },
      "execution_count": 12,
      "outputs": [
        {
          "output_type": "stream",
          "name": "stdout",
          "text": [
            "\n",
            "Точність PyTorch моделі: 0.8910\n",
            "Матриця плутанини:\n",
            "[[207  24]\n",
            " [ 27 210]]\n"
          ]
        }
      ]
    },
    {
      "cell_type": "code",
      "source": [
        "# Логістична регресія з sklearn\n",
        "log_reg = LogisticRegression()\n",
        "log_reg.fit(X_train, y_train)\n",
        "y_pred_sk = log_reg.predict(X_test)\n",
        "\n",
        "acc_sk = accuracy_score(y_test, y_pred_sk)\n",
        "print(f\"\\nТочність LogisticRegression з sklearn: {acc_sk:.4f}\")\n",
        "print(\"Матриця плутанини:\")\n",
        "print(confusion_matrix(y_test, y_pred_sk))"
      ],
      "metadata": {
        "colab": {
          "base_uri": "https://localhost:8080/"
        },
        "id": "ZNK7EDB3jnuh",
        "outputId": "5df65e4a-8214-4e85-a1a3-ca4f9a62c8b8"
      },
      "execution_count": 13,
      "outputs": [
        {
          "output_type": "stream",
          "name": "stdout",
          "text": [
            "\n",
            "Точність LogisticRegression з sklearn: 0.8932\n",
            "Матриця плутанини:\n",
            "[[207  24]\n",
            " [ 26 211]]\n"
          ]
        }
      ]
    },
    {
      "cell_type": "code",
      "source": [
        "# Порівняння результатів\n",
        "print(\"\\nЗвіт PyTorch:\")\n",
        "print(classification_report(y_test, y_pred_nn_cls))\n",
        "\n",
        "print(\"\\nЗвіт sklearn:\")\n",
        "print(classification_report(y_test, y_pred_sk))"
      ],
      "metadata": {
        "colab": {
          "base_uri": "https://localhost:8080/"
        },
        "id": "ILT9_fejjnw2",
        "outputId": "e9fe0ab7-11ee-45ad-a89a-3996a42c13f0"
      },
      "execution_count": 14,
      "outputs": [
        {
          "output_type": "stream",
          "name": "stdout",
          "text": [
            "\n",
            "Звіт PyTorch:\n",
            "              precision    recall  f1-score   support\n",
            "\n",
            "           0       0.88      0.90      0.89       231\n",
            "           1       0.90      0.89      0.89       237\n",
            "\n",
            "    accuracy                           0.89       468\n",
            "   macro avg       0.89      0.89      0.89       468\n",
            "weighted avg       0.89      0.89      0.89       468\n",
            "\n",
            "\n",
            "Звіт sklearn:\n",
            "              precision    recall  f1-score   support\n",
            "\n",
            "           0       0.89      0.90      0.89       231\n",
            "           1       0.90      0.89      0.89       237\n",
            "\n",
            "    accuracy                           0.89       468\n",
            "   macro avg       0.89      0.89      0.89       468\n",
            "weighted avg       0.89      0.89      0.89       468\n",
            "\n"
          ]
        }
      ]
    },
    {
      "cell_type": "markdown",
      "source": [
        "**Висновок**\n",
        "\n",
        "У ході лабораторної роботи було реалізовано логістичну регресію двома способамиза допомогою нейронної мережі на PyTorch та класичної моделі зі sklearn. Обидві моделі показали схожі результати, однак нейронна мережа дає більше можливостей для подальшого розширення. Робота дозволила мені закріпити навички з побудови моделей класифікації та роботи з бібліотеками машинного навчання.\n",
        "\n",
        "\n"
      ],
      "metadata": {
        "id": "ORg8eQK-lEGb"
      }
    }
  ]
}